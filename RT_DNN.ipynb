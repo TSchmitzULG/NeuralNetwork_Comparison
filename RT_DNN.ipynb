{
 "cells": [
  {
   "cell_type": "markdown",
   "metadata": {},
   "source": [
    "# Emulation of nonlinear audio systems with CNN in Real Time\n",
    "version : LSTM9"
   ]
  },
  {
   "cell_type": "markdown",
   "metadata": {},
   "source": [
    "Imports :"
   ]
  },
  {
   "cell_type": "code",
   "execution_count": 1,
   "metadata": {},
   "outputs": [
    {
     "name": "stdout",
     "output_type": "stream",
     "text": [
      "INFO:tensorflow:Restoring parameters from ./Experiments/2018-09-24-14-00/temp/myFinalModel.ckpt\n",
      "input latency 0.011609977324263039 s\n",
      "output latency 0.017414965986394557 s\n",
      "Playback Error: 4\n",
      "Playback Error: 4\n",
      "stream interrupted\n"
     ]
    }
   ],
   "source": [
    "import sys,select,os\n",
    "sys.path.append('./Codes')\n",
    "import tensorflow as tf\n",
    "import numpy as np\n",
    "import matplotlib\n",
    "import matplotlib.pyplot as plt\n",
    "import pickle\n",
    "import scipy.io.wavfile\n",
    "import time\n",
    "import pyaudio \n",
    "from tensorflow.contrib.rnn import *\n",
    "\n",
    "pathModel = './Experiments/2018-09-24-14-00/temp/' #(200,150) dnn 150 step\n",
    "\n",
    "\n",
    "\n",
    "if not os.path.isdir(pathModel):\n",
    "    print(\"could nt find path model {}\".format(pathModel))\n",
    "num_step = 150\n",
    "bufferAudioSize = 300\n",
    "fs = 44100\n",
    "\n",
    "with tf.Session() as sess:\n",
    "    saver = tf.train.import_meta_graph(pathModel+'myModel.ckpt.meta')\n",
    "    saver.restore(sess,tf.train.latest_checkpoint(pathModel))\n",
    "    lastBuff = np.zeros((num_step-1,))\n",
    "    graph = tf.get_default_graph()\n",
    "    data = graph.get_tensor_by_name(\"placeHolder/data:0\")\n",
    "    prediction = graph.get_tensor_by_name(\"FCPred/Tanh:0\")\n",
    "    \n",
    "    dataNonShaped = tf.placeholder(tf.float32, [bufferAudioSize,],name=\"inputFromADC\")\n",
    "    prevBuff = tf.placeholder(tf.float32, [num_step-1,],name = \"EndofPreviousInputBufferNonShaped\")\n",
    "    newBuff = tf.concat([prevBuff,dataNonShaped],0) #size num_step-1+bufferAudioSize\n",
    "    \n",
    "    nextBuff = newBuff[-(num_step-1):] # save for next iteration\n",
    "    \n",
    "    my_indices = tf.constant(np.arange(bufferAudioSize))\n",
    "    \n",
    "    indices = (np.arange(num_step) +my_indices[:,tf.newaxis])\n",
    "    dataShaped = tf.gather(newBuff,indices) # slice input vector into tensor of shape(audiobufferSize,num_step)\n",
    "\n",
    "    def callback(in_data, frame_count, time_info, flag):\n",
    "        if flag:\n",
    "            print(\"Playback Error: {}\".format(flag))\n",
    "        global lastBuff\n",
    "\n",
    "        audio_data = np.frombuffer(in_data, dtype=np.float32)\n",
    "        dataShapedToProcess,lastBuff = sess.run([dataShaped,nextBuff], feed_dict={dataNonShaped : audio_data, prevBuff : lastBuff})\n",
    "        out = sess.run(prediction, feed_dict={data: dataShapedToProcess})\n",
    "        return out, pyaudio.paContinue\n",
    "    \n",
    "    #fake graph use before launch audio stream, to place node on the graph\n",
    "    for x in range(0, 5):\n",
    "        initInput = [0]*bufferAudioSize\n",
    "        dataShapedToProcess = sess.run([dataShaped], feed_dict={dataNonShaped : initInput, prevBuff : lastBuff})\n",
    "        _ = sess.run(prediction, feed_dict={data: dataShapedToProcess[0]})\n",
    "    \n",
    "    pa = pyaudio.PyAudio()\n",
    "    \n",
    "    stream = pa.open(format = pyaudio.paFloat32,\n",
    "                     channels = 1,\n",
    "                     rate = fs,\n",
    "                     output = True,\n",
    "                     input = True,\n",
    "                     frames_per_buffer = bufferAudioSize,\n",
    "                     stream_callback = callback)\n",
    "    print(\"input latency {} s\".format(stream.get_input_latency()))\n",
    "    print(\"output latency {} s\".format(stream.get_output_latency()))\n",
    "\n",
    "    #stream.start_stream()\n",
    "    while stream.is_active():   \n",
    "        time.sleep(0.1)\n",
    "\n",
    "    print(\"stream interrupted\")   \n",
    "    stream.stop_stream()\n",
    "    stream.close()\n",
    "    pa.terminate()"
   ]
  }
 ],
 "metadata": {
  "kernelspec": {
   "display_name": "Python 3",
   "language": "python",
   "name": "python3"
  },
  "language_info": {
   "codemirror_mode": {
    "name": "ipython",
    "version": 3
   },
   "file_extension": ".py",
   "mimetype": "text/x-python",
   "name": "python",
   "nbconvert_exporter": "python",
   "pygments_lexer": "ipython3",
   "version": "3.5.2"
  }
 },
 "nbformat": 4,
 "nbformat_minor": 2
}
